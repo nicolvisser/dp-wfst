{
 "cells": [
  {
   "cell_type": "code",
   "execution_count": 1,
   "metadata": {},
   "outputs": [
    {
     "name": "stdout",
     "output_type": "stream",
     "text": [
      "Requirement already satisfied: numpy<2 in ./.conda/lib/python3.11/site-packages (1.26.4)\n"
     ]
    }
   ],
   "source": [
    "!pip install \"numpy<2\""
   ]
  },
  {
   "cell_type": "code",
   "execution_count": 2,
   "metadata": {},
   "outputs": [],
   "source": [
    "from itertools import groupby\n",
    "\n",
    "import numpy as np\n",
    "import torch\n",
    "\n",
    "from dpdp import dpdp\n",
    "from dpwfst import dpwfst"
   ]
  },
  {
   "cell_type": "markdown",
   "metadata": {},
   "source": [
    "Let's load some data\n",
    "\n",
    "`features` is a $T \\times D$ tensor. It contains the HuBERT features for a single utterance.\n",
    "\n",
    "`codebook_centroids` is a $K \\times D$ tensor. It contains the codebook centroids from a $K$-means clustering of the features.\n",
    "\n",
    "`codebook_labels` is a numpy array of length $K$. It contains the most likely phone label for each codebook entry."
   ]
  },
  {
   "cell_type": "code",
   "execution_count": 16,
   "metadata": {},
   "outputs": [],
   "source": [
    "features = torch.load(\"data/1272-128104-0000-hubert-bshall-layer-7.pt\")\n",
    "codebook_centroids = torch.load(\"data/hubert-bshall-layer-7-kmeans-200-centroids.pt\")\n",
    "codebook_labels = np.load(\"data/hubert-bshall-layer-7-kmeans-200-labels.npy\")"
   ]
  },
  {
   "cell_type": "markdown",
   "metadata": {},
   "source": [
    "We can extract $K$-means units from the utterance and label them using the codebook labels."
   ]
  },
  {
   "cell_type": "code",
   "execution_count": 17,
   "metadata": {},
   "outputs": [],
   "source": [
    "distances = torch.cdist(features, codebook_centroids, p=2.0)\n",
    "units = torch.argmin(distances, dim=1)"
   ]
  },
  {
   "cell_type": "markdown",
   "metadata": {},
   "source": [
    "Before we label the units, let's remove consecutive duplicate labels."
   ]
  },
  {
   "cell_type": "code",
   "execution_count": 18,
   "metadata": {},
   "outputs": [],
   "source": [
    "units_deduped = [k.item() for k, g in groupby(units)]"
   ]
  },
  {
   "cell_type": "markdown",
   "metadata": {},
   "source": [
    "Now we can map the units to phone labels."
   ]
  },
  {
   "cell_type": "code",
   "execution_count": 19,
   "metadata": {},
   "outputs": [],
   "source": [
    "units_labels = codebook_labels[units_deduped]"
   ]
  },
  {
   "cell_type": "code",
   "execution_count": 20,
   "metadata": {},
   "outputs": [
    {
     "name": "stdout",
     "output_type": "stream",
     "text": [
      "096: SIL\n",
      "155: M\n",
      "087: IH\n",
      "121: SH\n",
      "112: T\n",
      "041: T\n",
      "061: ER\n",
      "141: ER\n",
      "107: T\n",
      "179: K\n",
      "068: K\n",
      "154: F\n",
      "133: W\n",
      "065: IH\n",
      "159: L\n",
      "189: L\n",
      "140: L\n",
      "125: D\n",
      "009: T\n",
      "061: ER\n",
      "059: ER\n",
      "080: R\n"
     ]
    }
   ],
   "source": [
    "for i, (unit, label) in enumerate(zip(units_deduped, units_labels)):\n",
    "    if i < 10:\n",
    "        continue\n",
    "    print(f\"{unit:03d}: {label}\")\n",
    "    if i > 30:\n",
    "        break\n"
   ]
  },
  {
   "cell_type": "markdown",
   "metadata": {},
   "source": [
    "The LibriSpeech transcription for this utterance is:\n",
    "\n",
    "`Mister Quilter is the apostle of the middle classes, and we are glad to welcome his gospel.`\n",
    "\n",
    "We can see that the labeled units sort of correspond to the phones that are expected given the transcription.\n",
    "\n",
    "Here is a visualization of the the units along with the true phone labels.\n",
    "\n",
    "![](dpdp-visualization.svg)"
   ]
  },
  {
   "cell_type": "markdown",
   "metadata": {},
   "source": [
    "To obtain the DPDP units, we can run the following code."
   ]
  },
  {
   "cell_type": "code",
   "execution_count": 21,
   "metadata": {},
   "outputs": [],
   "source": [
    "lmbda = 8 # <- change this to see the effect of the penalty\n",
    "\n",
    "dpdp_units = dpdp(features, codebook_centroids, lmbda=lmbda)"
   ]
  },
  {
   "cell_type": "markdown",
   "metadata": {},
   "source": [
    "Just like before, we can remove consecutive duplicate labels and then map the units to phone labels."
   ]
  },
  {
   "cell_type": "code",
   "execution_count": 22,
   "metadata": {},
   "outputs": [
    {
     "name": "stdout",
     "output_type": "stream",
     "text": [
      "162: SIL\n",
      "016: SIL\n",
      "135: SIL\n",
      "094: SIL\n",
      "171: SIL\n",
      "013: SIL\n",
      "171: SIL\n",
      "096: SIL\n",
      "155: M\n",
      "087: IH\n",
      "121: SH\n",
      "112: T\n",
      "041: T\n",
      "061: ER\n",
      "107: T\n",
      "068: K\n",
      "065: IH\n",
      "159: L\n",
      "189: L\n",
      "140: L\n",
      "125: D\n",
      "061: ER\n",
      "059: ER\n",
      "080: R\n",
      "087: IH\n",
      "147: Z\n",
      "167: Z\n",
      "052: AH\n",
      "088: Y\n",
      "001: AH\n",
      "107: T\n",
      "075: SIL\n"
     ]
    }
   ],
   "source": [
    "dpdp_units_deduped = [k.item() for k, g in groupby(dpdp_units)]\n",
    "dpdp_units_labels = codebook_labels[dpdp_units_deduped]\n",
    "for i, (unit, label) in enumerate(zip(dpdp_units_deduped, dpdp_units_labels)):\n",
    "    print(f\"{unit:03d}: {label}\")\n",
    "    if i > 30:\n",
    "        break"
   ]
  },
  {
   "cell_type": "markdown",
   "metadata": {},
   "source": [
    "We can achieve the same result using the DPWFST algorithm."
   ]
  },
  {
   "cell_type": "code",
   "execution_count": 23,
   "metadata": {},
   "outputs": [],
   "source": [
    "dpwfst_units = dpwfst(features, codebook_centroids, lmbda=lmbda)"
   ]
  },
  {
   "cell_type": "code",
   "execution_count": 24,
   "metadata": {},
   "outputs": [
    {
     "name": "stdout",
     "output_type": "stream",
     "text": [
      "162: SIL\n",
      "016: SIL\n",
      "135: SIL\n",
      "094: SIL\n",
      "171: SIL\n",
      "013: SIL\n",
      "171: SIL\n",
      "096: SIL\n",
      "155: M\n",
      "087: IH\n",
      "121: SH\n",
      "112: T\n",
      "041: T\n",
      "061: ER\n",
      "107: T\n",
      "068: K\n",
      "065: IH\n",
      "159: L\n",
      "189: L\n",
      "140: L\n",
      "125: D\n",
      "061: ER\n",
      "059: ER\n",
      "080: R\n",
      "087: IH\n",
      "147: Z\n",
      "167: Z\n",
      "052: AH\n",
      "088: Y\n",
      "001: AH\n",
      "107: T\n",
      "075: SIL\n"
     ]
    }
   ],
   "source": [
    "dpwfst_units_deduped = [k.item() for k, g in groupby(dpwfst_units)]\n",
    "dpwfst_units_labels = codebook_labels[dpwfst_units_deduped]\n",
    "for i, (unit, label) in enumerate(zip(dpwfst_units_deduped, dpwfst_units_labels)):\n",
    "    print(f\"{unit:03d}: {label}\")\n",
    "    if i > 30:\n",
    "        break"
   ]
  },
  {
   "cell_type": "code",
   "execution_count": 25,
   "metadata": {},
   "outputs": [
    {
     "name": "stdout",
     "output_type": "stream",
     "text": [
      "33.6 ms ± 1.21 ms per loop (mean ± std. dev. of 7 runs, 10 loops each)\n"
     ]
    }
   ],
   "source": [
    "%timeit dpdp(features, codebook_centroids, lmbda=lmbda)"
   ]
  },
  {
   "cell_type": "code",
   "execution_count": 26,
   "metadata": {},
   "outputs": [
    {
     "name": "stdout",
     "output_type": "stream",
     "text": [
      "789 ms ± 79.2 ms per loop (mean ± std. dev. of 7 runs, 1 loop each)\n"
     ]
    }
   ],
   "source": [
    "%timeit dpwfst(features, codebook_centroids, lmbda=lmbda)"
   ]
  },
  {
   "cell_type": "markdown",
   "metadata": {},
   "source": [
    "The DP-WFST algorithm is much slower than the DPDP algorithm if we search the full codebook."
   ]
  },
  {
   "cell_type": "markdown",
   "metadata": {},
   "source": [
    "However, the DP-WFST algorithm is more flexible and we can limit the search to a few nearest neighbors and speed it up significantly."
   ]
  },
  {
   "cell_type": "code",
   "execution_count": 27,
   "metadata": {},
   "outputs": [
    {
     "name": "stdout",
     "output_type": "stream",
     "text": [
      "2.75 ms ± 199 μs per loop (mean ± std. dev. of 7 runs, 100 loops each)\n"
     ]
    }
   ],
   "source": [
    "%timeit dpwfst(features, codebook_centroids, lmbda=lmbda, num_neighbors=5)"
   ]
  },
  {
   "cell_type": "markdown",
   "metadata": {},
   "source": [
    "Now let's show the labeled units when we limit the search to the 5 nearest neighbors."
   ]
  },
  {
   "cell_type": "code",
   "execution_count": 28,
   "metadata": {},
   "outputs": [
    {
     "name": "stdout",
     "output_type": "stream",
     "text": [
      "162: SIL\n",
      "016: SIL\n",
      "135: SIL\n",
      "094: SIL\n",
      "171: SIL\n",
      "013: SIL\n",
      "171: SIL\n",
      "096: SIL\n",
      "155: M\n",
      "087: IH\n",
      "121: SH\n",
      "112: T\n",
      "041: T\n",
      "061: ER\n",
      "107: T\n",
      "068: K\n",
      "065: IH\n",
      "159: L\n",
      "189: L\n",
      "140: L\n",
      "125: D\n",
      "061: ER\n",
      "059: ER\n",
      "080: R\n",
      "087: IH\n",
      "147: Z\n",
      "167: Z\n",
      "052: AH\n",
      "088: Y\n",
      "001: AH\n",
      "107: T\n",
      "075: SIL\n"
     ]
    }
   ],
   "source": [
    "dpwfst_units_5 = dpwfst(features, codebook_centroids, lmbda=lmbda, num_neighbors=5)\n",
    "dpwfst_units_5_deduped = [k.item() for k, g in groupby(dpwfst_units_5)]\n",
    "dpwfst_units_5_labels = codebook_labels[dpwfst_units_5_deduped]\n",
    "for i, (unit, label) in enumerate(zip(dpwfst_units_5_deduped, dpwfst_units_5_labels)):\n",
    "    print(f\"{unit:03d}: {label}\")\n",
    "    if i > 30:\n",
    "        break"
   ]
  },
  {
   "cell_type": "markdown",
   "metadata": {},
   "source": [
    "They look almost identical, but we have reduced the execution time significantly!!!"
   ]
  },
  {
   "cell_type": "markdown",
   "metadata": {},
   "source": []
  }
 ],
 "metadata": {
  "kernelspec": {
   "display_name": "Python 3",
   "language": "python",
   "name": "python3"
  },
  "language_info": {
   "codemirror_mode": {
    "name": "ipython",
    "version": 3
   },
   "file_extension": ".py",
   "mimetype": "text/x-python",
   "name": "python",
   "nbconvert_exporter": "python",
   "pygments_lexer": "ipython3",
   "version": "3.11.10"
  }
 },
 "nbformat": 4,
 "nbformat_minor": 2
}
